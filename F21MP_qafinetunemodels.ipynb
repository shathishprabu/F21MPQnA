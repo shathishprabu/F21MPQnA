{
 "cells": [
  {
   "cell_type": "code",
   "execution_count": 35,
   "metadata": {},
   "outputs": [],
   "source": [
    "import os\n",
    "import requests\n",
    "import json\n",
    "\n",
    "import torch\n",
    "from torch.utils.data import DataLoader\n",
    "from transformers import AdamW\n",
    "from tqdm import tqdm\n",
    "\n",
    "from rouge import Rouge\n",
    "import string, re\n",
    "\n",
    "\n",
    "import matplotlib.pyplot as plt\n",
    "import seaborn as sns\n",
    "import numpy as np\n",
    "from transformers import AutoTokenizer,AutoModelForQuestionAnswering"
   ]
  },
  {
   "cell_type": "code",
   "execution_count": 36,
   "metadata": {},
   "outputs": [],
   "source": [
    "from transformers import AutoTokenizer, AutoModelForQuestionAnswering\n",
    "\n",
    "tokenizer = AutoTokenizer.from_pretrained(\n",
    "    \"deepset/roberta-base-squad2\"\n",
    ")\n",
    "model = AutoModelForQuestionAnswering.from_pretrained(\n",
    "    \"deepset/roberta-base-squad2\"\n",
    ")\n",
    "\n",
    "\n",
    "def read_hospitalityData(path):\n",
    "    with open(path, \"rb\") as f:\n",
    "        squad_dict = json.load(f)\n",
    "\n",
    "    # initialize lists for contexts, questions, and answers\n",
    "    contexts = []\n",
    "    questions = []\n",
    "    answers = []\n",
    "    # iterate through all data in squad data\n",
    "    for group in squad_dict[\"data\"]:\n",
    "        for passage in group[\"paragraphs\"]:\n",
    "            context = passage[\"context\"]\n",
    "            for qa in passage[\"qas\"]:\n",
    "                question = qa[\"question\"]\n",
    "                if \"plausible_answers\" in qa.keys():\n",
    "                    access = \"plausible_answers\"\n",
    "                else:\n",
    "                    access = \"answers\"\n",
    "                for answer in qa[\"answers\"]:\n",
    "                    # append data to lists\n",
    "                    contexts.append(context)\n",
    "                    questions.append(question)\n",
    "                    answers.append(answer)\n",
    "    # return formatted data lists\n",
    "    return contexts, questions, answers\n",
    "\n",
    "def add_end_idx(answers, contexts):\n",
    "    # loop through each answer-context pair\n",
    "    for answer, context in zip(answers, contexts):\n",
    "        # gold_text refers to the answer we are expecting to find in context\n",
    "        \n",
    "        gold_text = answer['text']\n",
    "        # we already know the start index\n",
    "        start_idx = answer['answer_start']\n",
    "        # and ideally this would be the end index...\n",
    "        end_idx = start_idx + len(gold_text)\n",
    "        \n",
    "        # ...however, sometimes squad answers are off by a character or two\n",
    "        if context[start_idx:end_idx] == gold_text:           \n",
    "            # if the answer is not off :)\n",
    "            answer['answer_end'] = end_idx\n",
    "        else:\n",
    "            for n in [1, 2]:\n",
    "                if context[start_idx-n:end_idx-n] == gold_text:                    \n",
    "                    # this means the answer is off by 'n' tokens\n",
    "                    answer['answer_start'] = start_idx - n\n",
    "                    answer['answer_end'] = end_idx - n\n",
    "\n",
    "def add_token_positions(encodings, answers):\n",
    "    # initialize lists to contain the token indices of answer start/end\n",
    "    start_positions = []\n",
    "    end_positions = []    \n",
    "    for i in range(len(answers)-1):\n",
    "        # append start/end token position using char_to_token method\n",
    "       \n",
    "        start_positions.append(encodings.char_to_token(i, answers[i]['answer_start']))        \n",
    "        end_positions.append(encodings.char_to_token(i, answers[i]['answer_end']))\n",
    "\n",
    "        # if start position is None, the answer passage has been truncated\n",
    "        if start_positions[-1] is None:\n",
    "            start_positions[-1] = tokenizer.model_max_length\n",
    "        # end position cannot be found, char_to_token found space, so shift one token forward\n",
    "        go_back = 1\n",
    "        while end_positions[-1] is None:\n",
    "            end_positions[-1] = encodings.char_to_token(i, answers[i]['answer_end']-go_back)\n",
    "            go_back +=1\n",
    "    # update our encodings object with the new token-based start/end positions\n",
    "    encodings.update({'start_positions': start_positions, 'end_positions': end_positions})\n",
    "\n",
    "\n",
    "\n",
    "def save_model(model_path):\n",
    "    #model_path = 'data/benchmarks/bertuncased-custom'\n",
    "    model.save_pretrained(model_path)\n",
    "    tokenizer.save_pretrained(model_path)\n",
    "\n",
    "\n",
    "\n",
    "def ConvertIdstoAnswers(inputIds,startId,endId):\n",
    "    answer=''\n",
    "    results=[]\n",
    "    for i in range(len(inputIds)):\n",
    "        token=tokenizer.convert_ids_to_tokens(inputIds[i])      \n",
    "        if endId[i] >= startId[i]:\n",
    "            answer = token[startId[i]]\n",
    "            for i in range(startId[i]+1, endId[i]+1):\n",
    "                if token[i][0:2] == \"##\":               \n",
    "                    answer += token[i][2:]                    \n",
    "                else:\n",
    "                    answer += \" \" + token[i]          \n",
    "            results.append(answer)   \n",
    "        else:\n",
    "            results.append(\"None\")  \n",
    "\n",
    "    return results\n",
    "\n"
   ]
  },
  {
   "cell_type": "code",
   "execution_count": 37,
   "metadata": {},
   "outputs": [],
   "source": [
    "#pytorch class\n",
    "class hospitalityDataset(torch.utils.data.Dataset):\n",
    "    def __init__(self, encodings):\n",
    "        self.encodings = encodings\n",
    "\n",
    "    def __getitem__(self, idx):\n",
    "        return {key: torch.tensor(val[idx]) for key, val in self.encodings.items()}\n",
    "\n",
    "    def __len__(self):        \n",
    "        return len(self.encodings.input_ids)-1"
   ]
  },
  {
   "cell_type": "code",
   "execution_count": 38,
   "metadata": {},
   "outputs": [],
   "source": [
    "\n",
    "# Method for cleaning the prediction values\n",
    "def normalize_text(s):\n",
    "    \"\"\"Typically, text processing steps include removing articles and punctuation and standardizing whitespace.\"\"\"\n",
    "    def remove_articles(text):\n",
    "        regex = re.compile(r\"\\b(a|an|the)\\b\", re.UNICODE)\n",
    "        return re.sub(regex, \" \", text)\n",
    "\n",
    "    def white_space_fix(text):\n",
    "        return \" \".join(text.split())\n",
    "\n",
    "    def remove_punc(text):\n",
    "        exclude = set(string.punctuation)\n",
    "        return \"\".join(ch for ch in text if ch not in exclude)\n",
    "\n",
    "    def lower(text):\n",
    "        return text.lower()\n",
    "\n",
    "    return white_space_fix(remove_articles(remove_punc(lower(s))))\n",
    "\n",
    "# Method to compute  Avg EM evaluation\n",
    "def compute_exact_match(model_out,reference):\n",
    "    em = []    \n",
    "    for i in range(len(model_out)):\n",
    "        if normalize_text(model_out[i]) == normalize_text(reference[i]):\n",
    "            em.append(1)\n",
    "        else:\n",
    "            em.append(0)    \n",
    "    return sum(em)/len(em)\n",
    "# Method to compute EM for each prediction\n",
    "def compute_exact_match_eachPredictions(model_out,reference):\n",
    "    em = []    \n",
    "    for i in range(len(model_out)):\n",
    "        if normalize_text(model_out[i]) == normalize_text(reference[i]):\n",
    "            em.append([normalize_text(model_out[i]),normalize_text(reference[i]),1])\n",
    "        else:\n",
    "            em.append([normalize_text(model_out[i]),normalize_text(reference[i]),0])  \n",
    "    return em\n",
    "\n",
    "# Method to compute Avg Rouge score\n",
    "def compute_rouge_evaulation(model_out,reference):    \n",
    "    rouge = Rouge()\n",
    "    return rouge.get_scores(model_out, reference, avg=True)\n",
    "\n",
    "# Method to compute Rouge score for each prediction\n",
    "def compute_rouge_evaulation_noavg(model_out,reference):    \n",
    "    rouge = Rouge()\n",
    "    return rouge.get_scores(model_out, reference)"
   ]
  },
  {
   "cell_type": "code",
   "execution_count": 39,
   "metadata": {},
   "outputs": [],
   "source": [
    "# Loading training and validation dataset\n",
    "(train_contexts, train_questions, train_answers) = \\\n",
    "    read_hospitalityData('data/f21mp_test.json')\n",
    "    \n",
    "(val_contexts, val_questions, val_answers) = \\\n",
    "    read_hospitalityData('data/f21mp_train.json')"
   ]
  },
  {
   "cell_type": "code",
   "execution_count": 40,
   "metadata": {},
   "outputs": [],
   "source": [
    "add_end_idx(train_answers, train_contexts)\n",
    "add_end_idx(val_answers, val_contexts)\n",
    "\n",
    "train_encodings = tokenizer(train_contexts, train_questions,truncation=True, max_length=171,padding='max_length',return_tensors='pt')\n",
    "\n",
    "val_encodings = tokenizer(val_contexts, val_questions, truncation=True,max_length=171, padding='max_length',return_tensors='pt')\n",
    "\n",
    "# apply function to our data\n",
    "\n",
    "add_token_positions(train_encodings, train_answers)\n",
    "add_token_positions(val_encodings, val_answers)"
   ]
  },
  {
   "cell_type": "code",
   "execution_count": 41,
   "metadata": {},
   "outputs": [],
   "source": [
    "train_dataset = hospitalityDataset(train_encodings)\n",
    "val_dataset = hospitalityDataset(val_encodings)"
   ]
  },
  {
   "cell_type": "code",
   "execution_count": 42,
   "metadata": {},
   "outputs": [
    {
     "name": "stderr",
     "output_type": "stream",
     "text": [
      "  0%|          | 0/92 [00:00<?, ?it/s]<ipython-input-37-2fe28b62591e>:7: UserWarning: To copy construct from a tensor, it is recommended to use sourceTensor.clone().detach() or sourceTensor.clone().detach().requires_grad_(True), rather than torch.tensor(sourceTensor).\n",
      "  return {key: torch.tensor(val[idx]) for key, val in self.encodings.items()}\n",
      "Epoch 0: 100%|██████████| 9/9 [00:02<00:00,  3.41it/s, loss=1.68]\n",
      "100%|██████████| 92/92 [00:10<00:00,  8.39it/s]\n",
      "Epoch 1:   0%|          | 0/9 [00:00<?, ?it/s]"
     ]
    },
    {
     "name": "stdout",
     "output_type": "stream",
     "text": [
      "saving model .... Best accuracy 0.4565217391304348\n"
     ]
    },
    {
     "name": "stderr",
     "output_type": "stream",
     "text": [
      "Epoch 1: 100%|██████████| 9/9 [00:02<00:00,  3.54it/s, loss=1.75]\n",
      "Epoch 2:   0%|          | 0/9 [00:00<?, ?it/s]"
     ]
    },
    {
     "name": "stdout",
     "output_type": "stream",
     "text": [
      "saving model .... Best accuracy 0.5\n"
     ]
    },
    {
     "name": "stderr",
     "output_type": "stream",
     "text": [
      "Epoch 2: 100%|██████████| 9/9 [00:02<00:00,  3.55it/s, loss=0.859]\n",
      "Epoch 3: 100%|██████████| 9/9 [00:02<00:00,  3.59it/s, loss=1.77]\n",
      "Epoch 4: 100%|██████████| 9/9 [00:02<00:00,  3.58it/s, loss=1.07]\n",
      "Epoch 5:   0%|          | 0/9 [00:00<?, ?it/s]"
     ]
    },
    {
     "name": "stdout",
     "output_type": "stream",
     "text": [
      "saving model .... Best accuracy 0.5108695652173914\n"
     ]
    },
    {
     "name": "stderr",
     "output_type": "stream",
     "text": [
      "Epoch 5: 100%|██████████| 9/9 [00:02<00:00,  3.57it/s, loss=0.0917]\n",
      "Epoch 6:   0%|          | 0/9 [00:00<?, ?it/s]"
     ]
    },
    {
     "name": "stdout",
     "output_type": "stream",
     "text": [
      "saving model .... Best accuracy 0.5434782608695652\n"
     ]
    },
    {
     "name": "stderr",
     "output_type": "stream",
     "text": [
      "Epoch 6: 100%|██████████| 9/9 [00:02<00:00,  3.58it/s, loss=0.0236]\n",
      "Epoch 7: 100%|██████████| 9/9 [00:02<00:00,  3.54it/s, loss=0.00647]\n",
      "Epoch 8: 100%|██████████| 9/9 [00:02<00:00,  3.60it/s, loss=0.0286]\n",
      "Epoch 9: 100%|██████████| 9/9 [00:02<00:00,  3.50it/s, loss=1.71]\n"
     ]
    }
   ],
   "source": [
    "# setup GPU/CPU\n",
    "device = torch.device('cuda') if torch.cuda.is_available() else torch.device('cpu')\n",
    "# move model over to detected device\n",
    "model.to(device)\n",
    "# activate training mode of model\n",
    "model.train()\n",
    "# initialize adam optimizer with weight decay (reduces chance of overfitting)\n",
    "optim = AdamW(model.parameters(), lr=5e-5)\n",
    "\n",
    "# initialize data loader for training data\n",
    "train_loader = DataLoader(train_dataset, batch_size=2, shuffle=True)\n",
    "val_loader = DataLoader(val_dataset, batch_size=1, shuffle=True)\n",
    "acc = []\n",
    "\n",
    "\n",
    "# initialize loop for progress bar\n",
    "eval_loop = tqdm(val_loader)\n",
    "training_losses=[]\n",
    "eval_acc_avg = []\n",
    "eval_acc_start = []\n",
    "eval_acc_end = []\n",
    "rouge_scores=[]\n",
    "em_scores=[]\n",
    "\n",
    "best_accuracy=.35\n",
    "\n",
    "for epoch in range(10):\n",
    "    # set model to train mode\n",
    "    model.train()\n",
    "    # setup loop (we use tqdm for the progress bar)\n",
    "    training_epoc_loss=0 \n",
    "    loop = tqdm(train_loader, leave=True)    \n",
    "    for batch in loop:\n",
    "        # initialize calculated gradients (from prev step)\n",
    "        optim.zero_grad()\n",
    "        # pull all the tensor batches required for training\n",
    "        input_ids = batch['input_ids'].to(device)\n",
    "        attention_mask = batch['attention_mask'].to(device)\n",
    "        start_positions = batch['start_positions'].to(device)\n",
    "        end_positions = batch['end_positions'].to(device)\n",
    "        # train model on batch and return outputs (incl. loss)\n",
    "        outputs = model(input_ids, attention_mask=attention_mask,\n",
    "                        start_positions=start_positions,\n",
    "                        end_positions=end_positions)\n",
    "        # extract loss\n",
    "        loss = outputs[0]\n",
    "        \n",
    "        # calculate loss for every parameter that needs grad update\n",
    "        training_epoc_loss += loss.item() \n",
    "        \n",
    "        loss.backward()\n",
    "        # update parameters\n",
    "        optim.step()\n",
    "        # print relevant info to progress bar\n",
    "        loop.set_description(f'Epoch {epoch}')\n",
    "        loop.set_postfix(loss=loss.item())\n",
    "        \n",
    "        \n",
    "        \n",
    "    training_loss = training_epoc_loss/len(loop)\n",
    "    training_losses.append(training_loss)\n",
    "\n",
    "    # # EVALUATE\n",
    "    model.eval()\n",
    "\n",
    "    start_pos_numerator = []\n",
    "    model_output_truth=[]\n",
    "    start_pos_denom = []\n",
    "    end_pos_numerator = []\n",
    "    end_pos_denom = []\n",
    "    for batch in eval_loop:   \n",
    "    # we don't need to calculate gradients as we're not training\n",
    "        with torch.no_grad():\n",
    "            # pull batched items from loader\n",
    "            input_ids = batch['input_ids'].to(device)\n",
    "            attention_mask = batch['attention_mask'].to(device)\n",
    "            start_true = batch['start_positions'].to(device)\n",
    "            end_true = batch['end_positions'].to(device)\n",
    "            # make predictions\n",
    "            outputs = model(input_ids, attention_mask=attention_mask)\n",
    "            # pull preds out\n",
    "            start_pred = torch.argmax(outputs['start_logits'], dim=1)\n",
    "            end_pred = torch.argmax(outputs['end_logits'], dim=1)\n",
    "            # calculate accuracy for both and append to accuracy list\n",
    "            start_pos_numerator.append((start_pred == start_true).sum().item())\n",
    "            start_pos_denom.append(len(start_pred))\n",
    "            end_pos_numerator.append((end_pred == end_true).sum().item())\n",
    "            end_pos_denom.append(len(end_pred))\n",
    "\n",
    "            # acc.append(((start_pred == start_true).sum()/len(start_pred)).item())\n",
    "            # acc.append(((end_pred == end_true).sum()/len(end_pred)).item())\n",
    "            model_out=ConvertIdstoAnswers(input_ids,start_pred,end_pred)\n",
    "            \n",
    "            reference=ConvertIdstoAnswers(input_ids,start_true,end_true)\n",
    "            model_output_truth.append([model_out[0],reference[0]])\n",
    "    start_accuracy = sum(start_pos_numerator)/sum(start_pos_denom)\n",
    "    end_accuracy = sum(end_pos_numerator)/sum(end_pos_denom)\n",
    "    avg_acc = np.mean([start_accuracy,end_accuracy])\n",
    "    eval_acc_avg.append(avg_acc)\n",
    "    eval_acc_start.append(start_accuracy)\n",
    "    eval_acc_end.append(end_accuracy)\n",
    "\n",
    "    \n",
    "    \n",
    "    model_output_truth = np.array(model_output_truth)\n",
    "    model_out = model_output_truth[:,0]\n",
    "    reference = model_output_truth[:,1]\n",
    "   \n",
    "    rouge_score=compute_rouge_evaulation(model_out,reference)\n",
    "    #print(f\"model_out {model_out} reference {reference} rouge_score: {rouge_score}\")    \n",
    "    rouge_scores.append(rouge_score['rouge-l']['f'])\n",
    "    em_score=compute_exact_match(model_out,reference)\n",
    "    em_scores.append(em_score)\n",
    "    #print(f\"saving model .... Best accuracy {avg_acc}\")\n",
    "    #print(f\"EPOCH {epoch} Training Loss {training_loss} Eval Avg Acc: {avg_acc} Eval Start Pos Acc: {start_accuracy} Eval End Pos Acc: {end_accuracy} Exact Match: {em_score} Rouge Score: {rouge_score}\")    \n",
    "    if avg_acc>best_accuracy:\n",
    "        best_accuracy=avg_acc\n",
    "        save_model('data/benchmarks/bestmodels/bert-large-uncased-whole-word-masking-finetuned-squad/')\n",
    "        print(f\"saving model .... Best accuracy {best_accuracy}\")\n"
   ]
  },
  {
   "cell_type": "code",
   "execution_count": 43,
   "metadata": {},
   "outputs": [
    {
     "data": {
      "text/html": [
       "<div>\n",
       "<style scoped>\n",
       "    .dataframe tbody tr th:only-of-type {\n",
       "        vertical-align: middle;\n",
       "    }\n",
       "\n",
       "    .dataframe tbody tr th {\n",
       "        vertical-align: top;\n",
       "    }\n",
       "\n",
       "    .dataframe thead th {\n",
       "        text-align: right;\n",
       "    }\n",
       "</style>\n",
       "<table border=\"1\" class=\"dataframe\">\n",
       "  <thead>\n",
       "    <tr style=\"text-align: right;\">\n",
       "      <th></th>\n",
       "      <th>training_loss</th>\n",
       "      <th>avg_accuracy</th>\n",
       "      <th>exact_match</th>\n",
       "      <th>rouge_score</th>\n",
       "    </tr>\n",
       "    <tr>\n",
       "      <th>epocs</th>\n",
       "      <th></th>\n",
       "      <th></th>\n",
       "      <th></th>\n",
       "      <th></th>\n",
       "    </tr>\n",
       "  </thead>\n",
       "  <tbody>\n",
       "    <tr>\n",
       "      <th>0</th>\n",
       "      <td>2.490481</td>\n",
       "      <td>0.456522</td>\n",
       "      <td>0.369565</td>\n",
       "      <td>0.525526</td>\n",
       "    </tr>\n",
       "    <tr>\n",
       "      <th>1</th>\n",
       "      <td>1.545998</td>\n",
       "      <td>0.500000</td>\n",
       "      <td>0.391304</td>\n",
       "      <td>0.527147</td>\n",
       "    </tr>\n",
       "    <tr>\n",
       "      <th>2</th>\n",
       "      <td>1.273418</td>\n",
       "      <td>0.472826</td>\n",
       "      <td>0.402174</td>\n",
       "      <td>0.580361</td>\n",
       "    </tr>\n",
       "    <tr>\n",
       "      <th>3</th>\n",
       "      <td>1.171650</td>\n",
       "      <td>0.489130</td>\n",
       "      <td>0.347826</td>\n",
       "      <td>0.541793</td>\n",
       "    </tr>\n",
       "    <tr>\n",
       "      <th>4</th>\n",
       "      <td>1.240975</td>\n",
       "      <td>0.510870</td>\n",
       "      <td>0.402174</td>\n",
       "      <td>0.573906</td>\n",
       "    </tr>\n",
       "    <tr>\n",
       "      <th>5</th>\n",
       "      <td>0.672804</td>\n",
       "      <td>0.543478</td>\n",
       "      <td>0.467391</td>\n",
       "      <td>0.647362</td>\n",
       "    </tr>\n",
       "    <tr>\n",
       "      <th>6</th>\n",
       "      <td>0.576727</td>\n",
       "      <td>0.505435</td>\n",
       "      <td>0.380435</td>\n",
       "      <td>0.657657</td>\n",
       "    </tr>\n",
       "    <tr>\n",
       "      <th>7</th>\n",
       "      <td>0.481731</td>\n",
       "      <td>0.505435</td>\n",
       "      <td>0.326087</td>\n",
       "      <td>0.559607</td>\n",
       "    </tr>\n",
       "    <tr>\n",
       "      <th>8</th>\n",
       "      <td>0.485517</td>\n",
       "      <td>0.500000</td>\n",
       "      <td>0.413043</td>\n",
       "      <td>0.639449</td>\n",
       "    </tr>\n",
       "    <tr>\n",
       "      <th>9</th>\n",
       "      <td>0.429826</td>\n",
       "      <td>0.505435</td>\n",
       "      <td>0.402174</td>\n",
       "      <td>0.562619</td>\n",
       "    </tr>\n",
       "  </tbody>\n",
       "</table>\n",
       "</div>"
      ],
      "text/plain": [
       "       training_loss  avg_accuracy  exact_match  rouge_score\n",
       "epocs                                                       \n",
       "0           2.490481      0.456522     0.369565     0.525526\n",
       "1           1.545998      0.500000     0.391304     0.527147\n",
       "2           1.273418      0.472826     0.402174     0.580361\n",
       "3           1.171650      0.489130     0.347826     0.541793\n",
       "4           1.240975      0.510870     0.402174     0.573906\n",
       "5           0.672804      0.543478     0.467391     0.647362\n",
       "6           0.576727      0.505435     0.380435     0.657657\n",
       "7           0.481731      0.505435     0.326087     0.559607\n",
       "8           0.485517      0.500000     0.413043     0.639449\n",
       "9           0.429826      0.505435     0.402174     0.562619"
      ]
     },
     "execution_count": 43,
     "metadata": {},
     "output_type": "execute_result"
    }
   ],
   "source": [
    "import pandas as pd\n",
    "model_metrics=pd.DataFrame({\n",
    "    \"epocs\":list(range(10)),\n",
    "    \"training_loss\": training_losses,\n",
    "    \"avg_accuracy\":eval_acc_avg,\n",
    "    \"exact_match\": em_scores,\n",
    "    \"rouge_score\": rouge_scores\n",
    "})\n",
    "model_metrics = model_metrics.set_index(\"epocs\")\n",
    "model_metrics"
   ]
  },
  {
   "cell_type": "code",
   "execution_count": 45,
   "metadata": {},
   "outputs": [
    {
     "data": {
      "image/png": "[encoded data removed]",
      "text/plain": [
       "<Figure size 432x288 with 1 Axes>"
      ]
     },
     "metadata": {
      "needs_background": "light"
     },
     "output_type": "display_data"
    },
    {
     "data": {
      "image/png": "[encoded data removed]",
      "text/plain": [
       "<Figure size 432x288 with 1 Axes>"
      ]
     },
     "metadata": {
      "needs_background": "light"
     },
     "output_type": "display_data"
    },
    {
     "data": {
      "image/png": "[encoded data removed]",
      "text/plain": [
       "<Figure size 432x288 with 1 Axes>"
      ]
     },
     "metadata": {
      "needs_background": "light"
     },
     "output_type": "display_data"
    },
    {
     "data": {
      "image/png": "[encoded data removed]",
      "text/plain": [
       "<Figure size 432x288 with 1 Axes>"
      ]
     },
     "metadata": {
      "needs_background": "light"
     },
     "output_type": "display_data"
    }
   ],
   "source": [
    "import matplotlib.pyplot as plt\n",
    "%matplotlib inline\n",
    "for col in model_metrics.columns:\n",
    "    model_metrics[col].plot(title=col)\n",
    "    # if col==\"exact_match\":\n",
    "    #     plt.axhline(y=0.45,color=\"r\",)\n",
    "    plt.scatter(5,model_metrics[col][5],color=\"r\",s=200)\n",
    "    #plt.text(0,0.55, \"{:.0f}\".format(0.55), color=\"red\", ha=\"right\", va=\"center\")\n",
    "    plt.show()"
   ]
  },
  {
   "cell_type": "code",
   "execution_count": 13,
   "metadata": {},
   "outputs": [
    {
     "name": "stdout",
     "output_type": "stream",
     "text": [
      "\n",
      "The accuracy of start and end tokens with respect to true position: []\n",
      "\n",
      "Rouge Evaulation: {'rouge-1': {'r': 0.7777777777777778, 'p': 1.0, 'f': 0.8749999950781251}, 'rouge-2': {'r': 0.75, 'p': 1.0, 'f': 0.8571428522448981}, 'rouge-l': {'r': 0.7777777777777778, 'p': 1.0, 'f': 0.8749999950781251}}\n",
      "\n",
      "Exact Match: 0.13953488372093023\n"
     ]
    }
   ],
   "source": [
    "\n",
    "# model_out=ConvertIdstoAnswers(input_ids,start_pred,end_pred)\n",
    "# reference=ConvertIdstoAnswers(input_ids,start_true,end_true)\n",
    "# print('\\nModel output{}'.format(model_out))\n",
    "# print('\\nReference {}'.format(reference))\n",
    "\n",
    "print(\"\\nThe accuracy of start and end tokens with respect to true position: {}\".format(acc))\n",
    "print(\"\\nRouge Evaulation: {}\".format(compute_rouge_evaulation(model_output_truth[0][0],model_output_truth[0][1])))\n",
    "print(\"\\nExact Match: {}\".format(compute_exact_match(model_output_truth[0][0],model_output_truth[0][1])))"
   ]
  }
 ],
 "metadata": {
  "interpreter": {
   "hash": "b9aa8e61194e92d99b0a274c045d166271695586faf4a7ca05413957a358b22b"
  },
  "kernelspec": {
   "display_name": "Python 3.8.8 64-bit ('ptorchenv': conda)",
   "name": "python3"
  },
  "language_info": {
   "codemirror_mode": {
    "name": "ipython",
    "version": 3
   },
   "file_extension": ".py",
   "mimetype": "text/x-python",
   "name": "python",
   "nbconvert_exporter": "python",
   "pygments_lexer": "ipython3",
   "version": "3.8.8"
  },
  "orig_nbformat": 4
 },
 "nbformat": 4,
 "nbformat_minor": 2
}
